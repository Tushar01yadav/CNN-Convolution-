{
 "cells": [
  {
   "cell_type": "code",
   "execution_count": 3,
   "id": "c128e65d",
   "metadata": {},
   "outputs": [
    {
     "name": "stdout",
     "output_type": "stream",
     "text": [
      "Epoch 1/5\n",
      "844/844 [==============================] - 16s 17ms/step - loss: 0.1992 - accuracy: 0.9398 - val_loss: 0.0689 - val_accuracy: 0.9795\n",
      "Epoch 2/5\n",
      "844/844 [==============================] - 14s 16ms/step - loss: 0.0572 - accuracy: 0.9829 - val_loss: 0.0413 - val_accuracy: 0.9885\n",
      "Epoch 3/5\n",
      "844/844 [==============================] - 15s 17ms/step - loss: 0.0402 - accuracy: 0.9869 - val_loss: 0.0380 - val_accuracy: 0.9880\n",
      "Epoch 4/5\n",
      "844/844 [==============================] - 14s 17ms/step - loss: 0.0305 - accuracy: 0.9903 - val_loss: 0.0347 - val_accuracy: 0.9902\n",
      "Epoch 5/5\n",
      "844/844 [==============================] - 14s 17ms/step - loss: 0.0243 - accuracy: 0.9926 - val_loss: 0.0410 - val_accuracy: 0.9890\n",
      "313/313 [==============================] - 2s 5ms/step - loss: 0.0340 - accuracy: 0.9894\n",
      "Test Accuracy: 0.9894\n"
     ]
    }
   ],
   "source": [
    "#cnn model to predict handwritten digits ( MNIST )\n",
    "import tensorflow as tf\n",
    "from tensorflow.keras import layers, models\n",
    "from tensorflow.keras.datasets import mnist\n",
    "from tensorflow.keras.utils import to_categorical\n",
    "\n",
    "# Load and preprocess the MNIST dataset\n",
    "(x_train, y_train), (x_test, y_test) = mnist.load_data()\n",
    "\n",
    "# Normalize pixel values to be between 0 and 1\n",
    "x_train = x_train.reshape(-1, 28, 28, 1).astype(\"float32\") / 255.0\n",
    "x_test = x_test.reshape(-1, 28, 28, 1).astype(\"float32\") / 255.0\n",
    "\n",
    "# One-hot encode labels\n",
    "y_train = to_categorical(y_train)\n",
    "y_test = to_categorical(y_test)\n",
    "\n",
    "# Build the CNN model\n",
    "model = models.Sequential([\n",
    "    layers.Conv2D(32, (3, 3), activation='relu', input_shape=(28, 28, 1)),\n",
    "    layers.MaxPooling2D((2, 2)),\n",
    "\n",
    "    layers.Conv2D(64, (3, 3), activation='relu'),\n",
    "    layers.MaxPooling2D((2, 2)),\n",
    "\n",
    "    layers.Flatten(),\n",
    "    layers.Dense(64, activation='relu'),\n",
    "    layers.Dense(10, activation='softmax')\n",
    "])\n",
    "\n",
    "# Compile the model\n",
    "model.compile(optimizer='adam',\n",
    "              loss='categorical_crossentropy',\n",
    "              metrics=['accuracy'])\n",
    "\n",
    "# Train the model\n",
    "model.fit(x_train, y_train, epochs=5, batch_size=64, validation_split=0.1)\n",
    "\n",
    "# Evaluate the model\n",
    "test_loss, test_acc = model.evaluate(x_test, y_test)\n",
    "print(f\"Test Accuracy: {test_acc:.4f}\")\n"
   ]
  },
  {
   "cell_type": "code",
   "execution_count": 4,
   "id": "efc451dd",
   "metadata": {},
   "outputs": [
    {
     "name": "stdout",
     "output_type": "stream",
     "text": [
      "1/1 [==============================] - 0s 93ms/step\n"
     ]
    },
    {
     "data": {
      "image/png": "[encoded data removed]",
      "text/plain": [
       "<Figure size 640x480 with 1 Axes>"
      ]
     },
     "metadata": {},
     "output_type": "display_data"
    }
   ],
   "source": [
    "import numpy as np\n",
    "from tensorflow.keras.preprocessing import image\n",
    "import matplotlib.pyplot as plt\n",
    "\n",
    "# Load and preprocess the image\n",
    "def preprocess_image(img_path):\n",
    "    img = image.load_img(img_path, color_mode='grayscale', target_size=(28, 28))\n",
    "    img_array = image.img_to_array(img)\n",
    "    img_array = img_array.reshape(1, 28, 28, 1) / 255.0  # Normalize\n",
    "    return img_array\n",
    "\n",
    "# Predict the digit\n",
    "img_path = 'Digit_7.png'  # Use your actual path\n",
    "processed_img = preprocess_image(img_path)\n",
    "\n",
    "# Predict\n",
    "pred = model.predict(processed_img)\n",
    "predicted_digit = np.argmax(pred)\n",
    "\n",
    "# Show image and prediction\n",
    "plt.imshow(processed_img[0, :, :, 0], cmap='gray')\n",
    "plt.title(f\"Predicted Digit: {predicted_digit}\")\n",
    "plt.axis('off')\n",
    "plt.show()\n"
   ]
  },
  {
   "cell_type": "code",
   "execution_count": 5,
   "id": "e8b76403",
   "metadata": {},
   "outputs": [
    {
     "name": "stdout",
     "output_type": "stream",
     "text": [
      "Initialized empty Git repository in C:/Users/HP/Machine Learning & Data Science/.git/\n"
     ]
    }
   ],
   "source": [
    "!git init "
   ]
  }
 ],
 "metadata": {
  "kernelspec": {
   "display_name": "Python 3 (ipykernel)",
   "language": "python",
   "name": "python3"
  },
  "language_info": {
   "codemirror_mode": {
    "name": "ipython",
    "version": 3
   },
   "file_extension": ".py",
   "mimetype": "text/x-python",
   "name": "python",
   "nbconvert_exporter": "python",
   "pygments_lexer": "ipython3",
   "version": "3.11.5"
  }
 },
 "nbformat": 4,
 "nbformat_minor": 5
}
